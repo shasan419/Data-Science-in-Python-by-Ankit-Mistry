{
 "cells": [
  {
   "cell_type": "markdown",
   "metadata": {},
   "source": [
    "# Read, Write File"
   ]
  },
  {
   "cell_type": "code",
   "execution_count": 1,
   "metadata": {
    "collapsed": true
   },
   "outputs": [],
   "source": [
    "import numpy as np\n",
    "import pandas as pd"
   ]
  },
  {
   "cell_type": "code",
   "execution_count": 2,
   "metadata": {
    "collapsed": true
   },
   "outputs": [],
   "source": [
    "df = pd.DataFrame(data=[[2,3],[\"Hello\",\"World\"],[34, True]], index=['R1','R2','R3'])"
   ]
  },
  {
   "cell_type": "markdown",
   "metadata": {},
   "source": [
    "# .csv"
   ]
  },
  {
   "cell_type": "code",
   "execution_count": 3,
   "metadata": {
    "collapsed": true
   },
   "outputs": [],
   "source": [
    "df.to_csv('SampleCsv.csv')"
   ]
  },
  {
   "cell_type": "code",
   "execution_count": 6,
   "metadata": {
    "collapsed": true
   },
   "outputs": [],
   "source": [
    "df1 = pd.read_csv('SampleCsv.csv', index_col=0)"
   ]
  },
  {
   "cell_type": "code",
   "execution_count": 7,
   "metadata": {},
   "outputs": [
    {
     "data": {
      "text/html": [
       "<div>\n",
       "<style>\n",
       "    .dataframe thead tr:only-child th {\n",
       "        text-align: right;\n",
       "    }\n",
       "\n",
       "    .dataframe thead th {\n",
       "        text-align: left;\n",
       "    }\n",
       "\n",
       "    .dataframe tbody tr th {\n",
       "        vertical-align: top;\n",
       "    }\n",
       "</style>\n",
       "<table border=\"1\" class=\"dataframe\">\n",
       "  <thead>\n",
       "    <tr style=\"text-align: right;\">\n",
       "      <th></th>\n",
       "      <th>0</th>\n",
       "      <th>1</th>\n",
       "    </tr>\n",
       "  </thead>\n",
       "  <tbody>\n",
       "    <tr>\n",
       "      <th>R1</th>\n",
       "      <td>2</td>\n",
       "      <td>3</td>\n",
       "    </tr>\n",
       "    <tr>\n",
       "      <th>R2</th>\n",
       "      <td>Hello</td>\n",
       "      <td>World</td>\n",
       "    </tr>\n",
       "    <tr>\n",
       "      <th>R3</th>\n",
       "      <td>34</td>\n",
       "      <td>True</td>\n",
       "    </tr>\n",
       "  </tbody>\n",
       "</table>\n",
       "</div>"
      ],
      "text/plain": [
       "        0      1\n",
       "R1      2      3\n",
       "R2  Hello  World\n",
       "R3     34   True"
      ]
     },
     "execution_count": 7,
     "metadata": {},
     "output_type": "execute_result"
    }
   ],
   "source": [
    "df1"
   ]
  },
  {
   "cell_type": "markdown",
   "metadata": {},
   "source": [
    "# .html"
   ]
  },
  {
   "cell_type": "code",
   "execution_count": null,
   "metadata": {
    "collapsed": true
   },
   "outputs": [],
   "source": [
    "# https://en.wikipedia.org/wiki/The_World%27s_Billionaires_2015"
   ]
  },
  {
   "cell_type": "code",
   "execution_count": 10,
   "metadata": {
    "collapsed": true
   },
   "outputs": [],
   "source": [
    "list_of_tables = pd.read_html('https://en.wikipedia.org/wiki/The_World%27s_Billionaires_2015')"
   ]
  },
  {
   "cell_type": "code",
   "execution_count": 11,
   "metadata": {},
   "outputs": [
    {
     "data": {
      "text/plain": [
       "list"
      ]
     },
     "execution_count": 11,
     "metadata": {},
     "output_type": "execute_result"
    }
   ],
   "source": [
    "type(list_of_tables)"
   ]
  },
  {
   "cell_type": "code",
   "execution_count": 14,
   "metadata": {},
   "outputs": [
    {
     "data": {
      "text/plain": [
       "4"
      ]
     },
     "execution_count": 14,
     "metadata": {},
     "output_type": "execute_result"
    }
   ],
   "source": [
    "len(list_of_tables)"
   ]
  },
  {
   "cell_type": "code",
   "execution_count": 15,
   "metadata": {},
   "outputs": [
    {
     "data": {
      "text/html": [
       "<div>\n",
       "<style>\n",
       "    .dataframe thead tr:only-child th {\n",
       "        text-align: right;\n",
       "    }\n",
       "\n",
       "    .dataframe thead th {\n",
       "        text-align: left;\n",
       "    }\n",
       "\n",
       "    .dataframe tbody tr th {\n",
       "        vertical-align: top;\n",
       "    }\n",
       "</style>\n",
       "<table border=\"1\" class=\"dataframe\">\n",
       "  <thead>\n",
       "    <tr style=\"text-align: right;\">\n",
       "      <th></th>\n",
       "      <th>0</th>\n",
       "      <th>1</th>\n",
       "      <th>2</th>\n",
       "      <th>3</th>\n",
       "      <th>4</th>\n",
       "      <th>5</th>\n",
       "    </tr>\n",
       "  </thead>\n",
       "  <tbody>\n",
       "    <tr>\n",
       "      <th>0</th>\n",
       "      <td>No.</td>\n",
       "      <td>name</td>\n",
       "      <td>Net worth (USD)</td>\n",
       "      <td>Age</td>\n",
       "      <td>Citizenship</td>\n",
       "      <td>Source(s) of wealth</td>\n",
       "    </tr>\n",
       "    <tr>\n",
       "      <th>1</th>\n",
       "      <td>7000100000000000000♠1</td>\n",
       "      <td>Gates, BillBill Gates</td>\n",
       "      <td>$79.2 billion</td>\n",
       "      <td>60</td>\n",
       "      <td>United States</td>\n",
       "      <td>Microsoft</td>\n",
       "    </tr>\n",
       "    <tr>\n",
       "      <th>2</th>\n",
       "      <td>7000200000000000000♠2</td>\n",
       "      <td>Slim, CarlosCarlos Slim</td>\n",
       "      <td>$77.1 billion</td>\n",
       "      <td>75</td>\n",
       "      <td>Mexico</td>\n",
       "      <td>Telmex</td>\n",
       "    </tr>\n",
       "    <tr>\n",
       "      <th>3</th>\n",
       "      <td>7000300000000000000♠3</td>\n",
       "      <td>Buffett, WarrenWarren Buffett</td>\n",
       "      <td>$72.7 billion</td>\n",
       "      <td>84</td>\n",
       "      <td>United States</td>\n",
       "      <td>Berkshire Hathaway</td>\n",
       "    </tr>\n",
       "    <tr>\n",
       "      <th>4</th>\n",
       "      <td>7000400000000000000♠4</td>\n",
       "      <td>Ortega, AmancioAmancio Ortega</td>\n",
       "      <td>$64.5 billion</td>\n",
       "      <td>78</td>\n",
       "      <td>Spain</td>\n",
       "      <td>Inditex Group</td>\n",
       "    </tr>\n",
       "    <tr>\n",
       "      <th>5</th>\n",
       "      <td>7000500000000000000♠5</td>\n",
       "      <td>Ellison, LarryLarry Ellison</td>\n",
       "      <td>$54.3 billion</td>\n",
       "      <td>70</td>\n",
       "      <td>United States</td>\n",
       "      <td>Oracle Corporation</td>\n",
       "    </tr>\n",
       "    <tr>\n",
       "      <th>6</th>\n",
       "      <td>7000600000000000000♠6</td>\n",
       "      <td>Koch, CharlesCharles Koch</td>\n",
       "      <td>$42.9 billion</td>\n",
       "      <td>79</td>\n",
       "      <td>United States</td>\n",
       "      <td>Koch Industries</td>\n",
       "    </tr>\n",
       "    <tr>\n",
       "      <th>7</th>\n",
       "      <td>7000600000000000000♠6</td>\n",
       "      <td>Koch, DavidDavid Koch</td>\n",
       "      <td>$42.9 billion</td>\n",
       "      <td>74</td>\n",
       "      <td>United States</td>\n",
       "      <td>Koch Industries</td>\n",
       "    </tr>\n",
       "    <tr>\n",
       "      <th>8</th>\n",
       "      <td>7000800000000000000♠8</td>\n",
       "      <td>Walton, ChristyChristy Walton</td>\n",
       "      <td>$41.7 billion</td>\n",
       "      <td>60</td>\n",
       "      <td>United States</td>\n",
       "      <td>Wal-Mart</td>\n",
       "    </tr>\n",
       "    <tr>\n",
       "      <th>9</th>\n",
       "      <td>7000900000000000000♠9</td>\n",
       "      <td>Walton, JimJim Walton</td>\n",
       "      <td>$40.6 billion</td>\n",
       "      <td>66</td>\n",
       "      <td>United States</td>\n",
       "      <td>Wal-Mart</td>\n",
       "    </tr>\n",
       "    <tr>\n",
       "      <th>10</th>\n",
       "      <td>7001100000000000000♠10</td>\n",
       "      <td>Bettencourt, LilianeLiliane Bettencourt</td>\n",
       "      <td>$40.1 billion</td>\n",
       "      <td>92</td>\n",
       "      <td>France</td>\n",
       "      <td>L'Oreal</td>\n",
       "    </tr>\n",
       "  </tbody>\n",
       "</table>\n",
       "</div>"
      ],
      "text/plain": [
       "                         0                                        1  \\\n",
       "0                      No.                                     name   \n",
       "1    7000100000000000000♠1                    Gates, BillBill Gates   \n",
       "2    7000200000000000000♠2                  Slim, CarlosCarlos Slim   \n",
       "3    7000300000000000000♠3            Buffett, WarrenWarren Buffett   \n",
       "4    7000400000000000000♠4            Ortega, AmancioAmancio Ortega   \n",
       "5    7000500000000000000♠5              Ellison, LarryLarry Ellison   \n",
       "6    7000600000000000000♠6                Koch, CharlesCharles Koch   \n",
       "7    7000600000000000000♠6                    Koch, DavidDavid Koch   \n",
       "8    7000800000000000000♠8            Walton, ChristyChristy Walton   \n",
       "9    7000900000000000000♠9                    Walton, JimJim Walton   \n",
       "10  7001100000000000000♠10  Bettencourt, LilianeLiliane Bettencourt   \n",
       "\n",
       "                  2    3              4                    5  \n",
       "0   Net worth (USD)  Age    Citizenship  Source(s) of wealth  \n",
       "1     $79.2 billion   60  United States            Microsoft  \n",
       "2     $77.1 billion   75         Mexico               Telmex  \n",
       "3     $72.7 billion   84  United States   Berkshire Hathaway  \n",
       "4     $64.5 billion   78          Spain        Inditex Group  \n",
       "5     $54.3 billion   70  United States   Oracle Corporation  \n",
       "6     $42.9 billion   79  United States      Koch Industries  \n",
       "7     $42.9 billion   74  United States      Koch Industries  \n",
       "8     $41.7 billion   60  United States             Wal-Mart  \n",
       "9     $40.6 billion   66  United States             Wal-Mart  \n",
       "10    $40.1 billion   92         France              L'Oreal  "
      ]
     },
     "execution_count": 15,
     "metadata": {},
     "output_type": "execute_result"
    }
   ],
   "source": [
    "list_of_tables[1]"
   ]
  },
  {
   "cell_type": "markdown",
   "metadata": {},
   "source": [
    "# .excel"
   ]
  },
  {
   "cell_type": "code",
   "execution_count": 17,
   "metadata": {},
   "outputs": [
    {
     "data": {
      "text/html": [
       "<div>\n",
       "<style>\n",
       "    .dataframe thead tr:only-child th {\n",
       "        text-align: right;\n",
       "    }\n",
       "\n",
       "    .dataframe thead th {\n",
       "        text-align: left;\n",
       "    }\n",
       "\n",
       "    .dataframe tbody tr th {\n",
       "        vertical-align: top;\n",
       "    }\n",
       "</style>\n",
       "<table border=\"1\" class=\"dataframe\">\n",
       "  <thead>\n",
       "    <tr style=\"text-align: right;\">\n",
       "      <th></th>\n",
       "      <th>0</th>\n",
       "      <th>1</th>\n",
       "    </tr>\n",
       "  </thead>\n",
       "  <tbody>\n",
       "    <tr>\n",
       "      <th>R1</th>\n",
       "      <td>2</td>\n",
       "      <td>3</td>\n",
       "    </tr>\n",
       "    <tr>\n",
       "      <th>R2</th>\n",
       "      <td>Hello</td>\n",
       "      <td>World</td>\n",
       "    </tr>\n",
       "    <tr>\n",
       "      <th>R3</th>\n",
       "      <td>34</td>\n",
       "      <td>True</td>\n",
       "    </tr>\n",
       "  </tbody>\n",
       "</table>\n",
       "</div>"
      ],
      "text/plain": [
       "        0      1\n",
       "R1      2      3\n",
       "R2  Hello  World\n",
       "R3     34   True"
      ]
     },
     "execution_count": 17,
     "metadata": {},
     "output_type": "execute_result"
    }
   ],
   "source": [
    "df"
   ]
  },
  {
   "cell_type": "code",
   "execution_count": 18,
   "metadata": {
    "collapsed": true
   },
   "outputs": [],
   "source": [
    "df.to_excel('SampleExcel.xls')"
   ]
  },
  {
   "cell_type": "code",
   "execution_count": null,
   "metadata": {
    "collapsed": true
   },
   "outputs": [],
   "source": []
  }
 ],
 "metadata": {
  "kernelspec": {
   "display_name": "Python 3",
   "language": "python",
   "name": "python3"
  },
  "language_info": {
   "codemirror_mode": {
    "name": "ipython",
    "version": 3
   },
   "file_extension": ".py",
   "mimetype": "text/x-python",
   "name": "python",
   "nbconvert_exporter": "python",
   "pygments_lexer": "ipython3",
   "version": "3.6.5"
  }
 },
 "nbformat": 4,
 "nbformat_minor": 2
}

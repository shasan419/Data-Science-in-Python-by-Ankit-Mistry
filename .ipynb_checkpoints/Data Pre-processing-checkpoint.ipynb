{
 "cells": [
  {
   "cell_type": "markdown",
   "metadata": {},
   "source": [
    "# Data Preprocessing"
   ]
  },
  {
   "cell_type": "markdown",
   "metadata": {},
   "source": [
    "* Imporing python library\n",
    "* Reading Data\n",
    "* Missing Data\n",
    "* Deal with Categorical data\n",
    "* Splitting data\n",
    "* Normlize data"
   ]
  },
  {
   "cell_type": "markdown",
   "metadata": {},
   "source": [
    "### Import Python Library, Read Data"
   ]
  },
  {
   "cell_type": "code",
   "execution_count": 1,
   "metadata": {
    "collapsed": true
   },
   "outputs": [],
   "source": [
    "import numpy as np\n",
    "import pandas as pd"
   ]
  },
  {
   "cell_type": "code",
   "execution_count": 2,
   "metadata": {
    "collapsed": true
   },
   "outputs": [],
   "source": [
    "data = pd.read_csv(\"Data.csv\")"
   ]
  },
  {
   "cell_type": "code",
   "execution_count": 3,
   "metadata": {},
   "outputs": [
    {
     "data": {
      "text/html": [
       "<div>\n",
       "<style>\n",
       "    .dataframe thead tr:only-child th {\n",
       "        text-align: right;\n",
       "    }\n",
       "\n",
       "    .dataframe thead th {\n",
       "        text-align: left;\n",
       "    }\n",
       "\n",
       "    .dataframe tbody tr th {\n",
       "        vertical-align: top;\n",
       "    }\n",
       "</style>\n",
       "<table border=\"1\" class=\"dataframe\">\n",
       "  <thead>\n",
       "    <tr style=\"text-align: right;\">\n",
       "      <th></th>\n",
       "      <th>City</th>\n",
       "      <th>Age</th>\n",
       "      <th>Smoke</th>\n",
       "      <th>HappinessIndex</th>\n",
       "      <th>Healthy</th>\n",
       "    </tr>\n",
       "  </thead>\n",
       "  <tbody>\n",
       "    <tr>\n",
       "      <th>0</th>\n",
       "      <td>Mumbai</td>\n",
       "      <td>24.0</td>\n",
       "      <td>Yes</td>\n",
       "      <td>241.0</td>\n",
       "      <td>Yes</td>\n",
       "    </tr>\n",
       "    <tr>\n",
       "      <th>1</th>\n",
       "      <td>London</td>\n",
       "      <td>80.0</td>\n",
       "      <td>No</td>\n",
       "      <td>928.0</td>\n",
       "      <td>No</td>\n",
       "    </tr>\n",
       "    <tr>\n",
       "      <th>2</th>\n",
       "      <td>NewYork</td>\n",
       "      <td>38.0</td>\n",
       "      <td>Yes</td>\n",
       "      <td>NaN</td>\n",
       "      <td>Yes</td>\n",
       "    </tr>\n",
       "    <tr>\n",
       "      <th>3</th>\n",
       "      <td>NewYork</td>\n",
       "      <td>22.0</td>\n",
       "      <td>Yes</td>\n",
       "      <td>786.0</td>\n",
       "      <td>Yes</td>\n",
       "    </tr>\n",
       "    <tr>\n",
       "      <th>4</th>\n",
       "      <td>NewYork</td>\n",
       "      <td>36.0</td>\n",
       "      <td>Yes</td>\n",
       "      <td>967.0</td>\n",
       "      <td>Yes</td>\n",
       "    </tr>\n",
       "    <tr>\n",
       "      <th>5</th>\n",
       "      <td>London</td>\n",
       "      <td>NaN</td>\n",
       "      <td>Yes</td>\n",
       "      <td>665.0</td>\n",
       "      <td>Yes</td>\n",
       "    </tr>\n",
       "    <tr>\n",
       "      <th>6</th>\n",
       "      <td>Mumbai</td>\n",
       "      <td>17.0</td>\n",
       "      <td>No</td>\n",
       "      <td>293.0</td>\n",
       "      <td>No</td>\n",
       "    </tr>\n",
       "    <tr>\n",
       "      <th>7</th>\n",
       "      <td>NewYork</td>\n",
       "      <td>28.0</td>\n",
       "      <td>No</td>\n",
       "      <td>494.0</td>\n",
       "      <td>Yes</td>\n",
       "    </tr>\n",
       "    <tr>\n",
       "      <th>8</th>\n",
       "      <td>Mumbai</td>\n",
       "      <td>45.0</td>\n",
       "      <td>No</td>\n",
       "      <td>707.0</td>\n",
       "      <td>No</td>\n",
       "    </tr>\n",
       "    <tr>\n",
       "      <th>9</th>\n",
       "      <td>London</td>\n",
       "      <td>29.0</td>\n",
       "      <td>Yes</td>\n",
       "      <td>599.0</td>\n",
       "      <td>No</td>\n",
       "    </tr>\n",
       "  </tbody>\n",
       "</table>\n",
       "</div>"
      ],
      "text/plain": [
       "      City   Age Smoke  HappinessIndex Healthy\n",
       "0   Mumbai  24.0   Yes           241.0     Yes\n",
       "1   London  80.0    No           928.0      No\n",
       "2  NewYork  38.0   Yes             NaN     Yes\n",
       "3  NewYork  22.0   Yes           786.0     Yes\n",
       "4  NewYork  36.0   Yes           967.0     Yes\n",
       "5   London   NaN   Yes           665.0     Yes\n",
       "6   Mumbai  17.0    No           293.0      No\n",
       "7  NewYork  28.0    No           494.0     Yes\n",
       "8   Mumbai  45.0    No           707.0      No\n",
       "9   London  29.0   Yes           599.0      No"
      ]
     },
     "execution_count": 3,
     "metadata": {},
     "output_type": "execute_result"
    }
   ],
   "source": [
    "data"
   ]
  },
  {
   "cell_type": "code",
   "execution_count": 4,
   "metadata": {
    "collapsed": true
   },
   "outputs": [],
   "source": [
    "X = data.iloc[:,0:4].values\n",
    "y = data.iloc[:,4].values"
   ]
  },
  {
   "cell_type": "code",
   "execution_count": 5,
   "metadata": {},
   "outputs": [
    {
     "data": {
      "text/plain": [
       "array([['Mumbai', 24.0, 'Yes', 241.0],\n",
       "       ['London', 80.0, 'No', 928.0],\n",
       "       ['NewYork', 38.0, 'Yes', nan],\n",
       "       ['NewYork', 22.0, 'Yes', 786.0],\n",
       "       ['NewYork', 36.0, 'Yes', 967.0],\n",
       "       ['London', nan, 'Yes', 665.0],\n",
       "       ['Mumbai', 17.0, 'No', 293.0],\n",
       "       ['NewYork', 28.0, 'No', 494.0],\n",
       "       ['Mumbai', 45.0, 'No', 707.0],\n",
       "       ['London', 29.0, 'Yes', 599.0]], dtype=object)"
      ]
     },
     "execution_count": 5,
     "metadata": {},
     "output_type": "execute_result"
    }
   ],
   "source": [
    "X"
   ]
  },
  {
   "cell_type": "code",
   "execution_count": 6,
   "metadata": {},
   "outputs": [
    {
     "data": {
      "text/plain": [
       "array(['Yes', 'No', 'Yes', 'Yes', 'Yes', 'Yes', 'No', 'Yes', 'No', 'No'], dtype=object)"
      ]
     },
     "execution_count": 6,
     "metadata": {},
     "output_type": "execute_result"
    }
   ],
   "source": [
    "y"
   ]
  },
  {
   "cell_type": "markdown",
   "metadata": {
    "collapsed": true
   },
   "source": [
    "# Missing Data"
   ]
  },
  {
   "cell_type": "code",
   "execution_count": 7,
   "metadata": {},
   "outputs": [
    {
     "data": {
      "text/plain": [
       "array([['Mumbai', 24.0, 'Yes', 241.0],\n",
       "       ['London', 80.0, 'No', 928.0],\n",
       "       ['NewYork', 38.0, 'Yes', nan],\n",
       "       ['NewYork', 22.0, 'Yes', 786.0],\n",
       "       ['NewYork', 36.0, 'Yes', 967.0],\n",
       "       ['London', nan, 'Yes', 665.0],\n",
       "       ['Mumbai', 17.0, 'No', 293.0],\n",
       "       ['NewYork', 28.0, 'No', 494.0],\n",
       "       ['Mumbai', 45.0, 'No', 707.0],\n",
       "       ['London', 29.0, 'Yes', 599.0]], dtype=object)"
      ]
     },
     "execution_count": 7,
     "metadata": {},
     "output_type": "execute_result"
    }
   ],
   "source": [
    "X"
   ]
  },
  {
   "cell_type": "code",
   "execution_count": 8,
   "metadata": {
    "collapsed": true
   },
   "outputs": [],
   "source": [
    "from sklearn.preprocessing import Imputer"
   ]
  },
  {
   "cell_type": "code",
   "execution_count": 9,
   "metadata": {
    "collapsed": true
   },
   "outputs": [],
   "source": [
    "imputer = Imputer(missing_values='NaN', strategy='mean', axis=0)"
   ]
  },
  {
   "cell_type": "code",
   "execution_count": 10,
   "metadata": {
    "collapsed": true
   },
   "outputs": [],
   "source": [
    "X[:,1:2] = imputer.fit_transform(X[:,1:2])   # fit + transform = fit_transform\n",
    "X[:,3:4] = imputer.fit_transform(X[:,3:4]) "
   ]
  },
  {
   "cell_type": "code",
   "execution_count": 11,
   "metadata": {},
   "outputs": [
    {
     "data": {
      "text/plain": [
       "35.44444444444444"
      ]
     },
     "execution_count": 11,
     "metadata": {},
     "output_type": "execute_result"
    }
   ],
   "source": [
    "(24 + 80 + 38 + 22 + 36 + 17 + 28 + 45 + 29) / 9"
   ]
  },
  {
   "cell_type": "code",
   "execution_count": 12,
   "metadata": {},
   "outputs": [
    {
     "data": {
      "text/plain": [
       "array([['Mumbai', 24.0, 'Yes', 241.0],\n",
       "       ['London', 80.0, 'No', 928.0],\n",
       "       ['NewYork', 38.0, 'Yes', 631.1111111111111],\n",
       "       ['NewYork', 22.0, 'Yes', 786.0],\n",
       "       ['NewYork', 36.0, 'Yes', 967.0],\n",
       "       ['London', 35.44444444444444, 'Yes', 665.0],\n",
       "       ['Mumbai', 17.0, 'No', 293.0],\n",
       "       ['NewYork', 28.0, 'No', 494.0],\n",
       "       ['Mumbai', 45.0, 'No', 707.0],\n",
       "       ['London', 29.0, 'Yes', 599.0]], dtype=object)"
      ]
     },
     "execution_count": 12,
     "metadata": {},
     "output_type": "execute_result"
    }
   ],
   "source": [
    "X"
   ]
  },
  {
   "cell_type": "markdown",
   "metadata": {},
   "source": [
    "# Categorical Data"
   ]
  },
  {
   "cell_type": "code",
   "execution_count": 13,
   "metadata": {},
   "outputs": [
    {
     "data": {
      "text/plain": [
       "array([['Mumbai', 24.0, 'Yes', 241.0],\n",
       "       ['London', 80.0, 'No', 928.0],\n",
       "       ['NewYork', 38.0, 'Yes', 631.1111111111111],\n",
       "       ['NewYork', 22.0, 'Yes', 786.0],\n",
       "       ['NewYork', 36.0, 'Yes', 967.0],\n",
       "       ['London', 35.44444444444444, 'Yes', 665.0],\n",
       "       ['Mumbai', 17.0, 'No', 293.0],\n",
       "       ['NewYork', 28.0, 'No', 494.0],\n",
       "       ['Mumbai', 45.0, 'No', 707.0],\n",
       "       ['London', 29.0, 'Yes', 599.0]], dtype=object)"
      ]
     },
     "execution_count": 13,
     "metadata": {},
     "output_type": "execute_result"
    }
   ],
   "source": [
    "X"
   ]
  },
  {
   "cell_type": "code",
   "execution_count": 14,
   "metadata": {},
   "outputs": [
    {
     "data": {
      "text/plain": [
       "array(['Yes', 'No', 'Yes', 'Yes', 'Yes', 'Yes', 'No', 'Yes', 'No', 'No'], dtype=object)"
      ]
     },
     "execution_count": 14,
     "metadata": {},
     "output_type": "execute_result"
    }
   ],
   "source": [
    "y"
   ]
  },
  {
   "cell_type": "code",
   "execution_count": 15,
   "metadata": {},
   "outputs": [
    {
     "ename": "SyntaxError",
     "evalue": "invalid syntax (<ipython-input-15-bc2629cf31df>, line 1)",
     "output_type": "error",
     "traceback": [
      "\u001b[1;36m  File \u001b[1;32m\"<ipython-input-15-bc2629cf31df>\"\u001b[1;36m, line \u001b[1;32m1\u001b[0m\n\u001b[1;33m    Yes -> 1 , No -> 0 - LabelEncoder\u001b[0m\n\u001b[1;37m         ^\u001b[0m\n\u001b[1;31mSyntaxError\u001b[0m\u001b[1;31m:\u001b[0m invalid syntax\n"
     ]
    }
   ],
   "source": [
    " Yes -> 1 , No -> 0 - LabelEncoder\n",
    " M -> 0, L -> 1,  N -> 2\n",
    "Mumbai London Newyork\n",
    "  1      0       0    -> One Hot Encoder\n",
    "  0      1       0"
   ]
  },
  {
   "cell_type": "code",
   "execution_count": 16,
   "metadata": {
    "collapsed": true
   },
   "outputs": [],
   "source": [
    "from sklearn.preprocessing import LabelEncoder, OneHotEncoder"
   ]
  },
  {
   "cell_type": "code",
   "execution_count": 17,
   "metadata": {
    "collapsed": true
   },
   "outputs": [],
   "source": [
    "le_x = LabelEncoder()\n",
    "le_y = LabelEncoder()"
   ]
  },
  {
   "cell_type": "code",
   "execution_count": 18,
   "metadata": {
    "collapsed": true
   },
   "outputs": [],
   "source": [
    "X[:, 0] = le_x.fit_transform(X[:, 0])\n",
    "X[:, 2] = le_x.fit_transform(X[:, 2])\n",
    "y = le_y.fit_transform(y)"
   ]
  },
  {
   "cell_type": "code",
   "execution_count": 19,
   "metadata": {},
   "outputs": [
    {
     "data": {
      "text/plain": [
       "array([[1, 24.0, 1, 241.0],\n",
       "       [0, 80.0, 0, 928.0],\n",
       "       [2, 38.0, 1, 631.1111111111111],\n",
       "       [2, 22.0, 1, 786.0],\n",
       "       [2, 36.0, 1, 967.0],\n",
       "       [0, 35.44444444444444, 1, 665.0],\n",
       "       [1, 17.0, 0, 293.0],\n",
       "       [2, 28.0, 0, 494.0],\n",
       "       [1, 45.0, 0, 707.0],\n",
       "       [0, 29.0, 1, 599.0]], dtype=object)"
      ]
     },
     "execution_count": 19,
     "metadata": {},
     "output_type": "execute_result"
    }
   ],
   "source": [
    "X"
   ]
  },
  {
   "cell_type": "code",
   "execution_count": 20,
   "metadata": {},
   "outputs": [
    {
     "data": {
      "text/plain": [
       "array([1, 0, 1, 1, 1, 1, 0, 1, 0, 0], dtype=int64)"
      ]
     },
     "execution_count": 20,
     "metadata": {},
     "output_type": "execute_result"
    }
   ],
   "source": [
    "y"
   ]
  },
  {
   "cell_type": "code",
   "execution_count": 21,
   "metadata": {
    "collapsed": true
   },
   "outputs": [],
   "source": [
    "ohe = OneHotEncoder(categorical_features=[0])"
   ]
  },
  {
   "cell_type": "code",
   "execution_count": 22,
   "metadata": {
    "collapsed": true
   },
   "outputs": [],
   "source": [
    "X = ohe.fit_transform(X).toarray()"
   ]
  },
  {
   "cell_type": "code",
   "execution_count": null,
   "metadata": {},
   "outputs": [],
   "source": [
    "X"
   ]
  },
  {
   "cell_type": "markdown",
   "metadata": {
    "collapsed": true
   },
   "source": [
    "# Spiliting data in Train and Test"
   ]
  },
  {
   "cell_type": "code",
   "execution_count": 24,
   "metadata": {
    "collapsed": true
   },
   "outputs": [],
   "source": [
    "# Machine Learning  = Training + Testing"
   ]
  },
  {
   "cell_type": "code",
   "execution_count": 41,
   "metadata": {
    "collapsed": true
   },
   "outputs": [],
   "source": [
    "from sklearn.cross_validation import train_test_split"
   ]
  },
  {
   "cell_type": "code",
   "execution_count": 42,
   "metadata": {
    "collapsed": true
   },
   "outputs": [],
   "source": [
    "X_train ,X_test, y_train, y_test  = train_test_split(X, y, test_size=0.3)"
   ]
  },
  {
   "cell_type": "code",
   "execution_count": 43,
   "metadata": {},
   "outputs": [
    {
     "data": {
      "text/plain": [
       "array([[   0.        ,    1.        ,    0.        ,   24.        ,\n",
       "           1.        ,  241.        ],\n",
       "       [   1.        ,    0.        ,    0.        ,   80.        ,\n",
       "           0.        ,  928.        ],\n",
       "       [   0.        ,    0.        ,    1.        ,   38.        ,\n",
       "           1.        ,  631.11111111],\n",
       "       [   0.        ,    0.        ,    1.        ,   22.        ,\n",
       "           1.        ,  786.        ],\n",
       "       [   0.        ,    0.        ,    1.        ,   36.        ,\n",
       "           1.        ,  967.        ],\n",
       "       [   1.        ,    0.        ,    0.        ,   35.44444444,\n",
       "           1.        ,  665.        ],\n",
       "       [   0.        ,    1.        ,    0.        ,   17.        ,\n",
       "           0.        ,  293.        ],\n",
       "       [   0.        ,    0.        ,    1.        ,   28.        ,\n",
       "           0.        ,  494.        ],\n",
       "       [   0.        ,    1.        ,    0.        ,   45.        ,\n",
       "           0.        ,  707.        ],\n",
       "       [   1.        ,    0.        ,    0.        ,   29.        ,\n",
       "           1.        ,  599.        ]])"
      ]
     },
     "execution_count": 43,
     "metadata": {},
     "output_type": "execute_result"
    }
   ],
   "source": [
    "X"
   ]
  },
  {
   "cell_type": "code",
   "execution_count": 28,
   "metadata": {},
   "outputs": [
    {
     "data": {
      "text/plain": [
       "array([[   1.        ,    0.        ,    0.        ,   35.44444444,\n",
       "           1.        ,  665.        ],\n",
       "       [   0.        ,    1.        ,    0.        ,   45.        ,\n",
       "           0.        ,  707.        ],\n",
       "       [   0.        ,    1.        ,    0.        ,   24.        ,\n",
       "           1.        ,  241.        ],\n",
       "       [   0.        ,    0.        ,    1.        ,   38.        ,\n",
       "           1.        ,  631.11111111],\n",
       "       [   1.        ,    0.        ,    0.        ,   29.        ,\n",
       "           1.        ,  599.        ],\n",
       "       [   0.        ,    0.        ,    1.        ,   36.        ,\n",
       "           1.        ,  967.        ],\n",
       "       [   1.        ,    0.        ,    0.        ,   80.        ,\n",
       "           0.        ,  928.        ]])"
      ]
     },
     "execution_count": 28,
     "metadata": {},
     "output_type": "execute_result"
    }
   ],
   "source": [
    "X_train"
   ]
  },
  {
   "cell_type": "code",
   "execution_count": 29,
   "metadata": {},
   "outputs": [
    {
     "data": {
      "text/plain": [
       "array([1, 0, 1, 1, 0, 1, 0], dtype=int64)"
      ]
     },
     "execution_count": 29,
     "metadata": {},
     "output_type": "execute_result"
    }
   ],
   "source": [
    "y_train"
   ]
  },
  {
   "cell_type": "code",
   "execution_count": 30,
   "metadata": {},
   "outputs": [
    {
     "data": {
      "text/plain": [
       "array([[   0.,    0.,    1.,   28.,    0.,  494.],\n",
       "       [   0.,    1.,    0.,   17.,    0.,  293.],\n",
       "       [   0.,    0.,    1.,   22.,    1.,  786.]])"
      ]
     },
     "execution_count": 30,
     "metadata": {},
     "output_type": "execute_result"
    }
   ],
   "source": [
    "X_test"
   ]
  },
  {
   "cell_type": "code",
   "execution_count": 31,
   "metadata": {},
   "outputs": [
    {
     "data": {
      "text/plain": [
       "array([1, 0, 1], dtype=int64)"
      ]
     },
     "execution_count": 31,
     "metadata": {},
     "output_type": "execute_result"
    }
   ],
   "source": [
    "y_test"
   ]
  },
  {
   "cell_type": "markdown",
   "metadata": {},
   "source": [
    "# Normalize data"
   ]
  },
  {
   "cell_type": "code",
   "execution_count": 32,
   "metadata": {},
   "outputs": [
    {
     "data": {
      "text/plain": [
       "array([[   1.        ,    0.        ,    0.        ,   35.44444444,\n",
       "           1.        ,  665.        ],\n",
       "       [   0.        ,    1.        ,    0.        ,   45.        ,\n",
       "           0.        ,  707.        ],\n",
       "       [   0.        ,    1.        ,    0.        ,   24.        ,\n",
       "           1.        ,  241.        ],\n",
       "       [   0.        ,    0.        ,    1.        ,   38.        ,\n",
       "           1.        ,  631.11111111],\n",
       "       [   1.        ,    0.        ,    0.        ,   29.        ,\n",
       "           1.        ,  599.        ],\n",
       "       [   0.        ,    0.        ,    1.        ,   36.        ,\n",
       "           1.        ,  967.        ],\n",
       "       [   1.        ,    0.        ,    0.        ,   80.        ,\n",
       "           0.        ,  928.        ]])"
      ]
     },
     "execution_count": 32,
     "metadata": {},
     "output_type": "execute_result"
    }
   ],
   "source": [
    "X_train"
   ]
  },
  {
   "cell_type": "code",
   "execution_count": null,
   "metadata": {
    "collapsed": true
   },
   "outputs": [],
   "source": [
    "35.44444444,\n",
    "665"
   ]
  },
  {
   "cell_type": "code",
   "execution_count": null,
   "metadata": {
    "collapsed": true
   },
   "outputs": [],
   "source": [
    " 45.        ,\n",
    "707.        ]"
   ]
  },
  {
   "cell_type": "code",
   "execution_count": null,
   "metadata": {
    "collapsed": true
   },
   "outputs": [],
   "source": [
    "sqrt((X2-x1)^2 + (Y2-y1)^2)  = sqrt(1 + 100 + 1600) = sqrt(1700)"
   ]
  },
  {
   "cell_type": "code",
   "execution_count": 33,
   "metadata": {
    "collapsed": true
   },
   "outputs": [],
   "source": [
    "from sklearn.preprocessing import StandardScaler"
   ]
  },
  {
   "cell_type": "code",
   "execution_count": 34,
   "metadata": {
    "collapsed": true
   },
   "outputs": [],
   "source": [
    "sc_x = StandardScaler()"
   ]
  },
  {
   "cell_type": "code",
   "execution_count": null,
   "metadata": {
    "collapsed": true
   },
   "outputs": [],
   "source": [
    "(X - Xmin)/ (Range = max - min)  ->  (X - Xmean) / XStd"
   ]
  },
  {
   "cell_type": "code",
   "execution_count": 44,
   "metadata": {},
   "outputs": [
    {
     "data": {
      "text/plain": [
       "array([[   0.,    1.,    0.,   24.,    1.,  241.],\n",
       "       [   1.,    0.,    0.,   80.,    0.,  928.],\n",
       "       [   0.,    0.,    1.,   28.,    0.,  494.]])"
      ]
     },
     "execution_count": 44,
     "metadata": {},
     "output_type": "execute_result"
    }
   ],
   "source": [
    "X_test"
   ]
  },
  {
   "cell_type": "code",
   "execution_count": 48,
   "metadata": {},
   "outputs": [],
   "source": [
    "X_train = sc_x.fit_transform(X_train)\n",
    "X_test = sc_x.transform(X_test)"
   ]
  },
  {
   "cell_type": "code",
   "execution_count": 49,
   "metadata": {},
   "outputs": [
    {
     "data": {
      "text/plain": [
       "array([[ 1.58113883, -0.63245553, -0.8660254 , -0.3087731 ,  0.63245553,\n",
       "        -0.34301055],\n",
       "       [-0.63245553,  1.58113883, -0.8660254 , -1.64267291, -1.58113883,\n",
       "        -1.95740442],\n",
       "       [ 1.58113883, -0.63245553, -0.8660254 ,  0.4075805 ,  0.63245553,\n",
       "         0.00519205],\n",
       "       [-0.63245553,  1.58113883, -0.8660254 ,  1.46975998, -1.58113883,\n",
       "         0.22677553],\n",
       "       [-0.63245553, -0.63245553,  1.15470054, -1.08688133,  0.63245553,\n",
       "         0.64356349],\n",
       "       [-0.63245553, -0.63245553,  1.15470054,  0.46933512,  0.63245553,\n",
       "         1.59848274],\n",
       "       [-0.63245553, -0.63245553,  1.15470054,  0.69165175,  0.63245553,\n",
       "        -0.17359884]])"
      ]
     },
     "execution_count": 49,
     "metadata": {},
     "output_type": "execute_result"
    }
   ],
   "source": [
    "X_train"
   ]
  },
  {
   "cell_type": "code",
   "execution_count": 50,
   "metadata": {},
   "outputs": [
    {
     "data": {
      "text/plain": [
       "array([[-0.63245553,  1.58113883, -0.8660254 , -0.86456469,  0.63245553,\n",
       "        -2.23174586],\n",
       "       [ 1.58113883, -0.63245553, -0.8660254 ,  5.36030109, -1.58113883,\n",
       "         1.39272666],\n",
       "       [-0.63245553, -0.63245553,  1.15470054, -0.41993142, -1.58113883,\n",
       "        -0.89696923]])"
      ]
     },
     "execution_count": 50,
     "metadata": {},
     "output_type": "execute_result"
    }
   ],
   "source": [
    "X_test"
   ]
  },
  {
   "cell_type": "code",
   "execution_count": null,
   "metadata": {
    "collapsed": true
   },
   "outputs": [],
   "source": []
  }
 ],
 "metadata": {
  "kernelspec": {
   "display_name": "Python 3",
   "language": "python",
   "name": "python3"
  },
  "language_info": {
   "codemirror_mode": {
    "name": "ipython",
    "version": 3
   },
   "file_extension": ".py",
   "mimetype": "text/x-python",
   "name": "python",
   "nbconvert_exporter": "python",
   "pygments_lexer": "ipython3",
   "version": "3.6.5"
  }
 },
 "nbformat": 4,
 "nbformat_minor": 2
}
